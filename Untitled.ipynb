{
 "cells": [
  {
   "cell_type": "code",
   "execution_count": 1,
   "metadata": {},
   "outputs": [],
   "source": [
    "# import the package\n",
    "import tensorflow as tf\n",
    "from tensorflow.keras.datasets import cifar10 \n",
    "import numpy as np "
   ]
  },
  {
   "cell_type": "code",
   "execution_count": 2,
   "metadata": {},
   "outputs": [],
   "source": [
    "import ssl\n",
    "ssl._create_default_https_context = ssl._create_unverified_context"
   ]
  },
  {
   "cell_type": "code",
   "execution_count": 3,
   "metadata": {},
   "outputs": [],
   "source": [
    "(X_train , y_train) , (X_test , y_test) = cifar10.load_data()  "
   ]
  },
  {
   "cell_type": "code",
   "execution_count": 4,
   "metadata": {},
   "outputs": [],
   "source": [
    "classes = [\"airplane\", \"automobile\" , \"bird\" , \"cat\" , \"deer\" , \"dog\" , \"frog\" , \"horse\" , \"ship\" , \"truck\"]"
   ]
  },
  {
   "cell_type": "code",
   "execution_count": 5,
   "metadata": {},
   "outputs": [
    {
     "data": {
      "text/plain": [
       "(50000, 32, 32, 3)"
      ]
     },
     "execution_count": 5,
     "metadata": {},
     "output_type": "execute_result"
    }
   ],
   "source": [
    "X_train.shape "
   ]
  },
  {
   "cell_type": "code",
   "execution_count": 7,
   "metadata": {},
   "outputs": [],
   "source": [
    "X_train = X_train / 255\n",
    "X_test = X_test / 255"
   ]
  },
  {
   "cell_type": "code",
   "execution_count": 8,
   "metadata": {},
   "outputs": [],
   "source": [
    "# Build a model\n",
    "from tensorflow.keras.layers import Conv2D , MaxPooling2D , Flatten , Dense , Dropout\n",
    "from tensorflow.keras.models import Sequential\n",
    "\n",
    "model = Sequential([\n",
    "    Conv2D(32 , (3,3) , activation=\"relu\" ,input_shape = (32,32,3)),\n",
    "    MaxPooling2D(pool_size= (2,2)),\n",
    "\n",
    "    Conv2D(64 , (3,3) , activation=\"relu\"),\n",
    "    MaxPooling2D(pool_size= (2,2)),\n",
    "\n",
    "    Conv2D(64 , (3,3) , activation=\"relu\"),\n",
    "    MaxPooling2D(pool_size= (2,2)),\n",
    "\n",
    "    Flatten(),\n",
    "    Dense(64 , activation=\"relu\"),\n",
    "    Dense(10  ,activation=\"softmax\")\n",
    "])"
   ]
  },
  {
   "cell_type": "code",
   "execution_count": 9,
   "metadata": {},
   "outputs": [
    {
     "name": "stdout",
     "output_type": "stream",
     "text": [
      "Model: \"sequential\"\n",
      "_________________________________________________________________\n",
      "Layer (type)                 Output Shape              Param #   \n",
      "=================================================================\n",
      "conv2d (Conv2D)              (None, 30, 30, 32)        896       \n",
      "_________________________________________________________________\n",
      "max_pooling2d (MaxPooling2D) (None, 15, 15, 32)        0         \n",
      "_________________________________________________________________\n",
      "conv2d_1 (Conv2D)            (None, 13, 13, 64)        18496     \n",
      "_________________________________________________________________\n",
      "max_pooling2d_1 (MaxPooling2 (None, 6, 6, 64)          0         \n",
      "_________________________________________________________________\n",
      "conv2d_2 (Conv2D)            (None, 4, 4, 64)          36928     \n",
      "_________________________________________________________________\n",
      "max_pooling2d_2 (MaxPooling2 (None, 2, 2, 64)          0         \n",
      "_________________________________________________________________\n",
      "flatten (Flatten)            (None, 256)               0         \n",
      "_________________________________________________________________\n",
      "dense (Dense)                (None, 64)                16448     \n",
      "_________________________________________________________________\n",
      "dense_1 (Dense)              (None, 10)                650       \n",
      "=================================================================\n",
      "Total params: 73,418\n",
      "Trainable params: 73,418\n",
      "Non-trainable params: 0\n",
      "_________________________________________________________________\n"
     ]
    }
   ],
   "source": [
    "model.summary()"
   ]
  },
  {
   "cell_type": "code",
   "execution_count": 10,
   "metadata": {},
   "outputs": [],
   "source": [
    "model.compile(optimizer=\"adam\" , loss=\"sparse_categorical_crossentropy\" , metrics=[\"accuracy\"])"
   ]
  },
  {
   "cell_type": "code",
   "execution_count": 11,
   "metadata": {},
   "outputs": [
    {
     "name": "stdout",
     "output_type": "stream",
     "text": [
      "Epoch 1/10\n",
      "1563/1563 [==============================] - 180s 114ms/step - loss: 1.8045 - accuracy: 0.3235 - val_loss: 1.3507 - val_accuracy: 0.5171\n",
      "Epoch 2/10\n",
      "1563/1563 [==============================] - 177s 113ms/step - loss: 1.2499 - accuracy: 0.5479 - val_loss: 1.1368 - val_accuracy: 0.5936\n",
      "Epoch 3/10\n",
      "1563/1563 [==============================] - 175s 112ms/step - loss: 1.0997 - accuracy: 0.6095 - val_loss: 1.1073 - val_accuracy: 0.6019\n",
      "Epoch 4/10\n",
      "1563/1563 [==============================] - 169s 108ms/step - loss: 0.9930 - accuracy: 0.6463 - val_loss: 1.0164 - val_accuracy: 0.6464\n",
      "Epoch 5/10\n",
      "1563/1563 [==============================] - 163s 104ms/step - loss: 0.9308 - accuracy: 0.6699 - val_loss: 1.0271 - val_accuracy: 0.6393\n",
      "Epoch 6/10\n",
      "1563/1563 [==============================] - 163s 104ms/step - loss: 0.8651 - accuracy: 0.6962 - val_loss: 0.9313 - val_accuracy: 0.6770\n",
      "Epoch 7/10\n",
      "1563/1563 [==============================] - 164s 105ms/step - loss: 0.8210 - accuracy: 0.7105 - val_loss: 0.9446 - val_accuracy: 0.6744\n",
      "Epoch 8/10\n",
      "1563/1563 [==============================] - 164s 105ms/step - loss: 0.7741 - accuracy: 0.7280 - val_loss: 0.9339 - val_accuracy: 0.6748\n",
      "Epoch 9/10\n",
      "1563/1563 [==============================] - 164s 105ms/step - loss: 0.7407 - accuracy: 0.7413 - val_loss: 0.9101 - val_accuracy: 0.6885\n",
      "Epoch 10/10\n",
      "1563/1563 [==============================] - 163s 105ms/step - loss: 0.7005 - accuracy: 0.7555 - val_loss: 0.9094 - val_accuracy: 0.6962\n"
     ]
    },
    {
     "data": {
      "text/plain": [
       "<tensorflow.python.keras.callbacks.History at 0x177c7d17610>"
      ]
     },
     "execution_count": 11,
     "metadata": {},
     "output_type": "execute_result"
    }
   ],
   "source": [
    "model.fit(X_train , y_train , epochs=10 , validation_data=(X_test , y_test))"
   ]
  },
  {
   "cell_type": "code",
   "execution_count": 18,
   "metadata": {},
   "outputs": [
    {
     "name": "stdout",
     "output_type": "stream",
     "text": [
      "313/313 [==============================] - 15s 45ms/step - loss: 0.9094 - accuracy: 0.6962\n"
     ]
    },
    {
     "data": {
      "text/plain": [
       "[0.909350574016571, 0.6962000131607056]"
      ]
     },
     "execution_count": 18,
     "metadata": {},
     "output_type": "execute_result"
    }
   ],
   "source": [
    "model.evaluate(X_test , y_test)"
   ]
  },
  {
   "cell_type": "code",
   "execution_count": 19,
   "metadata": {},
   "outputs": [
    {
     "data": {
      "text/plain": [
       "array([[3.9396286e-03, 3.7410662e-03, 7.9485262e-03, 3.5715151e-01,\n",
       "        7.1560062e-05, 2.4805684e-02, 7.5780945e-03, 6.4388740e-05,\n",
       "        5.8894932e-01, 5.7501611e-03],\n",
       "       [2.7345939e-02, 7.2667134e-01, 3.4339778e-06, 1.8744216e-06,\n",
       "        2.1342967e-06, 1.6375624e-07, 1.7719701e-07, 2.8743023e-07,\n",
       "        2.4401414e-01, 1.9605311e-03],\n",
       "       [4.7595192e-02, 2.3445886e-01, 3.2653317e-03, 2.3125629e-03,\n",
       "        9.6869480e-04, 2.6272479e-04, 2.3764699e-04, 3.3028709e-04,\n",
       "        6.8847662e-01, 2.2092102e-02],\n",
       "       [7.4106532e-01, 3.9224479e-02, 1.1351081e-02, 9.4612641e-04,\n",
       "        5.3176511e-04, 3.8548977e-05, 1.0993234e-03, 2.9220066e-05,\n",
       "        2.0215355e-01, 3.5606124e-03]], dtype=float32)"
      ]
     },
     "execution_count": 19,
     "metadata": {},
     "output_type": "execute_result"
    }
   ],
   "source": [
    "y_pred = model.predict(X_test)\n",
    "y_pred[:4]"
   ]
  },
  {
   "cell_type": "code",
   "execution_count": 20,
   "metadata": {},
   "outputs": [
    {
     "data": {
      "text/plain": [
       "[8, 1, 8, 0, 6]"
      ]
     },
     "execution_count": 20,
     "metadata": {},
     "output_type": "execute_result"
    }
   ],
   "source": [
    "y_classes = [np.argmax(element) for element in y_pred]\n",
    "y_classes[:5]"
   ]
  },
  {
   "cell_type": "code",
   "execution_count": 21,
   "metadata": {},
   "outputs": [
    {
     "data": {
      "text/plain": [
       "array([3, 8, 8, 0, 6], dtype=uint8)"
      ]
     },
     "execution_count": 21,
     "metadata": {},
     "output_type": "execute_result"
    }
   ],
   "source": [
    "y_test = y_test.reshape(-1,)\n",
    "y_test[:5]"
   ]
  },
  {
   "cell_type": "code",
   "execution_count": 22,
   "metadata": {},
   "outputs": [],
   "source": [
    "model.save(\"my_model.h5\")"
   ]
  },
  {
   "cell_type": "code",
   "execution_count": 24,
   "metadata": {},
   "outputs": [
    {
     "name": "stdout",
     "output_type": "stream",
     "text": [
      "Overwriting app.py\n"
     ]
    }
   ],
   "source": [
    "%%writefile app.py\n",
    "# import the Package\n",
    "import os\n",
    "import cv2\n",
    "import numpy as np \n",
    "from PIL import Image , ImageOps\n",
    "import streamlit as st\n",
    "from tensorflow.keras.models import load_model\n",
    "import tensorflow as tf\n",
    "\n",
    "class_name = [\"airplane\", \"automobile\" , \"bird\" , \"cat\" , \"deer\" , \"dog\" , \"frog\" , \"horse\" , \"ship\" , \"truck\"]\n",
    "\n",
    "# Create a function to load my saved model\n",
    "@st.cache(allow_output_mutation=True)\n",
    "def load_my_model():\n",
    "    model = tf.keras.models.load_model(\"my_model.h5\")\n",
    "    return model\n",
    "\n",
    "model = load_my_model()\n",
    "\n",
    "# Create a title of web App\n",
    "st.title(\"Image Classification with Cifar10 Dataset\")\n",
    "st.header(\"Please Upload images related to this things...\")\n",
    "st.text(class_name)\n",
    "\n",
    "# create a file uploader and take a image as an jpg or png\n",
    "file = st.file_uploader(\"Upload the image\" , type=[\"jpg\" , \"png\"])\n",
    "\n",
    "# Create a function to take and image and predict the class\n",
    "def import_and_predict(image_data , model):\n",
    "    size = (32 ,32)\n",
    "    image = ImageOps.fit(image_data , size , Image.ANTIALIAS)\n",
    "    img = np.asarray(image)\n",
    "    img_reshape = img[np.newaxis,...]\n",
    "    prediction = model.predict(img_reshape)\n",
    "    return prediction\n",
    "\n",
    "if st.button(\"Predict\"):\n",
    "    image = Image.open(file)\n",
    "    st.image(image , use_column_width=True)\n",
    "    predictions = import_and_predict(image , model)\n",
    "\n",
    "    class_name = [\"airplane\", \"automobile\" , \"bird\" , \"cat\" , \"deer\" , \"dog\" , \"frog\" , \"horse\" , \"ship\" , \"truck\"]\n",
    "\n",
    "    string = \"Image mostly same as :-\" + class_name[np.argmax(predictions)]\n",
    "    st.success(string)\n",
    "    \n"
   ]
  },
  {
   "cell_type": "code",
   "execution_count": null,
   "metadata": {},
   "outputs": [],
   "source": []
  }
 ],
 "metadata": {
  "kernelspec": {
   "display_name": "Python 3",
   "language": "python",
   "name": "python3"
  },
  "language_info": {
   "codemirror_mode": {
    "name": "ipython",
    "version": 3
   },
   "file_extension": ".py",
   "mimetype": "text/x-python",
   "name": "python",
   "nbconvert_exporter": "python",
   "pygments_lexer": "ipython3",
   "version": "3.8.3"
  }
 },
 "nbformat": 4,
 "nbformat_minor": 4
}
